{
 "cells": [
  {
   "cell_type": "code",
   "execution_count": null,
   "metadata": {
    "colab": {
     "base_uri": "https://localhost:8080/"
    },
    "executionInfo": {
     "elapsed": 3996,
     "status": "ok",
     "timestamp": 1728179188381,
     "user": {
      "displayName": "Sana Alamgeer",
      "userId": "06665991983345967563"
     },
     "user_tz": 300
    },
    "id": "ovOflPTh_VX_",
    "outputId": "d0bf3ca1-bc76-4f67-dbe3-4c0c0fe9c9a9"
   },
   "outputs": [],
   "source": [
    "!pip install yacs"
   ]
  },
  {
   "cell_type": "code",
   "execution_count": null,
   "metadata": {
    "colab": {
     "base_uri": "https://localhost:8080/"
    },
    "executionInfo": {
     "elapsed": 6933,
     "status": "ok",
     "timestamp": 1728179195311,
     "user": {
      "displayName": "Sana Alamgeer",
      "userId": "06665991983345967563"
     },
     "user_tz": 300
    },
    "id": "Jk3QNHCf_WI_",
    "outputId": "e8335f80-162e-4fe7-88e2-226f76a9234e"
   },
   "outputs": [],
   "source": [
    "!pip install filterpy"
   ]
  },
  {
   "cell_type": "code",
   "execution_count": null,
   "metadata": {
    "colab": {
     "base_uri": "https://localhost:8080/"
    },
    "executionInfo": {
     "elapsed": 7694,
     "status": "ok",
     "timestamp": 1728179203004,
     "user": {
      "displayName": "Sana Alamgeer",
      "userId": "06665991983345967563"
     },
     "user_tz": 300
    },
    "id": "hzF8hsL1_WL3",
    "outputId": "cebbe1b8-b207-43b2-f57b-353b457c82c7"
   },
   "outputs": [],
   "source": [
    "!pip install -r requirements.txt"
   ]
  },
  {
   "cell_type": "code",
   "execution_count": null,
   "metadata": {
    "colab": {
     "base_uri": "https://localhost:8080/"
    },
    "executionInfo": {
     "elapsed": 3376,
     "status": "ok",
     "timestamp": 1728179206375,
     "user": {
      "displayName": "Sana Alamgeer",
      "userId": "06665991983345967563"
     },
     "user_tz": 300
    },
    "id": "bh3GnKFs_l6-",
    "outputId": "6a2e4a9a-61a6-4495-ee2b-ac31ea7930f1"
   },
   "outputs": [],
   "source": [
    "!pip install --upgrade opencv-python"
   ]
  },
  {
   "cell_type": "code",
   "execution_count": null,
   "metadata": {},
   "outputs": [],
   "source": [
    "!pip install h5py"
   ]
  },
  {
   "cell_type": "code",
   "execution_count": null,
   "metadata": {},
   "outputs": [],
   "source": [
    "!pip install tqdm"
   ]
  },
  {
   "cell_type": "code",
   "execution_count": null,
   "metadata": {},
   "outputs": [],
   "source": [
    "!pip install torchsummary"
   ]
  },
  {
   "cell_type": "code",
   "execution_count": null,
   "metadata": {},
   "outputs": [],
   "source": [
    "!pip install torch torchvision"
   ]
  },
  {
   "cell_type": "code",
   "execution_count": null,
   "metadata": {},
   "outputs": [],
   "source": [
    "!pip install numba"
   ]
  },
  {
   "cell_type": "code",
   "execution_count": 1,
   "metadata": {
    "id": "vB-AKj6g_l9a"
   },
   "outputs": [],
   "source": [
    "import subprocess"
   ]
  },
  {
   "cell_type": "code",
   "execution_count": 3,
   "metadata": {
    "editable": true,
    "slideshow": {
     "slide_type": ""
    },
    "tags": []
   },
   "outputs": [],
   "source": [
    "import os\n",
    "\n",
    "# Set the correct ffprobe path manually\n",
    "os.environ[\"PATH\"] += os.pathsep + \"/opt/homebrew/bin/ffprobe\""
   ]
  },
  {
   "cell_type": "code",
   "execution_count": 4,
   "metadata": {},
   "outputs": [
    {
     "name": "stdout",
     "output_type": "stream",
     "text": [
      "ffprobe version 7.1.1 Copyright (c) 2007-2025 the FFmpeg developers\n",
      "built with Apple clang version 16.0.0 (clang-1600.0.26.6)\n",
      "configuration: --prefix=/opt/homebrew/Cellar/ffmpeg/7.1.1_2 --enable-shared --enable-pthreads --enable-version3 --cc=clang --host-cflags= --host-ldflags='-Wl,-ld_classic' --enable-ffplay --enable-gnutls --enable-gpl --enable-libaom --enable-libaribb24 --enable-libbluray --enable-libdav1d --enable-libharfbuzz --enable-libjxl --enable-libmp3lame --enable-libopus --enable-librav1e --enable-librist --enable-librubberband --enable-libsnappy --enable-libsrt --enable-libssh --enable-libsvtav1 --enable-libtesseract --enable-libtheora --enable-libvidstab --enable-libvmaf --enable-libvorbis --enable-libvpx --enable-libwebp --enable-libx264 --enable-libx265 --enable-libxml2 --enable-libxvid --enable-lzma --enable-libfontconfig --enable-libfreetype --enable-frei0r --enable-libass --enable-libopencore-amrnb --enable-libopencore-amrwb --enable-libopenjpeg --enable-libspeex --"
     ]
    },
    {
     "data": {
      "text/plain": [
       "CompletedProcess(args=['/opt/homebrew/bin/ffprobe', '-version'], returncode=0)"
      ]
     },
     "execution_count": 4,
     "metadata": {},
     "output_type": "execute_result"
    },
    {
     "name": "stdout",
     "output_type": "stream",
     "text": [
      "enable-libsoxr --enable-libzmq --enable-libzimg --disable-libjack --disable-indev=jack --enable-videotoolbox --enable-audiotoolbox --enable-neon\n",
      "libavutil      59. 39.100 / 59. 39.100\n",
      "libavcodec     61. 19.101 / 61. 19.101\n",
      "libavformat    61.  7.100 / 61.  7.100\n",
      "libavdevice    61.  3.100 / 61.  3.100\n",
      "libavfilter    10.  4.100 / 10.  4.100\n",
      "libswscale      8.  3.100 /  8.  3.100\n",
      "libswresample   5.  3.100 /  5.  3.100\n",
      "libpostproc    58.  3.100 / 58.  3.100\n"
     ]
    }
   ],
   "source": [
    "import subprocess\n",
    "subprocess.run([\"/opt/homebrew/bin/ffprobe\", \"-version\"])"
   ]
  },
  {
   "cell_type": "code",
   "execution_count": 8,
   "metadata": {
    "colab": {
     "base_uri": "https://localhost:8080/"
    },
    "editable": true,
    "executionInfo": {
     "elapsed": 133396,
     "status": "ok",
     "timestamp": 1728185225219,
     "user": {
      "displayName": "Sana Alamgeer",
      "userId": "06665991983345967563"
     },
     "user_tz": 300
    },
    "id": "LFmK2NFo-4lK",
    "outputId": "8fd97119-4ff0-4b31-c1cb-2f2290be78f6",
    "slideshow": {
     "slide_type": ""
    },
    "tags": []
   },
   "outputs": [
    {
     "name": "stdout",
     "output_type": "stream",
     "text": [
      "Loading YOLOv3 network.....\n",
      "YOLOv3 network successfully loaded\n",
      "Loading HRNet model ...\n",
      "HRNet network successfully loaded\n",
      "Generating 2D pose ...\n",
      "100%|███████████████████████████████████████| 2699/2699 [18:04<00:00,  2.49it/s]\n",
      "Loading GAST-Net ...\n",
      "GAST-Net successfully loaded\n",
      "Generating 3D human pose ...\n",
      "Saving 3D reconstruction...\n",
      "Completing saving...\n",
      "Done!!!\n"
     ]
    }
   ],
   "source": [
    "!python gen_skes.py -v gen_skes.py -v device1.mkv -np 1 #--animation"
   ]
  },
  {
   "cell_type": "code",
   "execution_count": null,
   "metadata": {
    "id": "N6bVlgDqkIxY"
   },
   "outputs": [],
   "source": []
  },
  {
   "cell_type": "code",
   "execution_count": null,
   "metadata": {
    "colab": {
     "base_uri": "https://localhost:8080/"
    },
    "executionInfo": {
     "elapsed": 324,
     "status": "ok",
     "timestamp": 1719703585707,
     "user": {
      "displayName": "Sana Alamgeer",
      "userId": "06665991983345967563"
     },
     "user_tz": 300
    },
    "id": "xK5RMPE2KZZ8",
    "outputId": "af3b77ef-6a6a-44f6-8960-6ebbaa9bb655"
   },
   "outputs": [],
   "source": [
    "import numpy as np\n",
    "\n",
    "# Replace 'file_path.npz' with your actual file path\n",
    "file_path = 'output/device1.npz'\n",
    "\n",
    "# Load data from the .npz file\n",
    "loaded_data = np.load(file_path, allow_pickle=True)\n",
    "\n",
    "# Print keys to see what arrays are stored in the file\n",
    "print(\"Keys in the NPZ file:\", list(loaded_data.keys()))\n"
   ]
  },
  {
   "cell_type": "code",
   "execution_count": null,
   "metadata": {
    "colab": {
     "base_uri": "https://localhost:8080/"
    },
    "executionInfo": {
     "elapsed": 237,
     "status": "ok",
     "timestamp": 1719703589523,
     "user": {
      "displayName": "Sana Alamgeer",
      "userId": "06665991983345967563"
     },
     "user_tz": 300
    },
    "id": "LER3GVJOKmio",
    "outputId": "6963beea-693a-4afb-c023-147a0021362b"
   },
   "outputs": [],
   "source": [
    "loaded_data['reconstruction'].shape"
   ]
  },
  {
   "cell_type": "code",
   "execution_count": null,
   "metadata": {},
   "outputs": [],
   "source": []
  }
 ],
 "metadata": {
  "accelerator": "GPU",
  "colab": {
   "authorship_tag": "ABX9TyPwQPoIY30vgMPZ9MKb9Sg3",
   "gpuType": "T4",
   "provenance": []
  },
  "kernelspec": {
   "display_name": "Python 3 (ipykernel)",
   "language": "python",
   "name": "python3"
  },
  "language_info": {
   "codemirror_mode": {
    "name": "ipython",
    "version": 3
   },
   "file_extension": ".py",
   "mimetype": "text/x-python",
   "name": "python",
   "nbconvert_exporter": "python",
   "pygments_lexer": "ipython3",
   "version": "3.11.9"
  }
 },
 "nbformat": 4,
 "nbformat_minor": 4
}
